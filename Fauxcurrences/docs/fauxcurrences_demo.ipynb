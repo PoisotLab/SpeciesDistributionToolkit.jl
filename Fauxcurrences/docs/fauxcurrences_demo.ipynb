{
 "cells": [
  {
   "cell_type": "markdown",
   "source": [
    "# Fauxcurrences.jl"
   ],
   "metadata": {}
  },
  {
   "cell_type": "markdown",
   "source": [
    "This package is a *clean-room*, *feature-equivalent* re-write in Julia of most\n",
    "of the functionalities of the [`fauxcurrence` package for R][paper]. The\n",
    "original code is licensed under the GPL, and this package is licensed under\n",
    "the MIT. For this reason, the original code, and any document distributed with\n",
    "it, has not been consulted during the implementation; the work is entirely\n",
    "based on the published article. As detailed in the following sections, the two\n",
    "packages do not have *feature parity*, but there is an overlap in the most\n",
    "significant functions."
   ],
   "metadata": {}
  },
  {
   "cell_type": "markdown",
   "source": [
    "[paper]: https://onlinelibrary.wiley.com/doi/full/10.1111/ecog.05880"
   ],
   "metadata": {}
  },
  {
   "cell_type": "markdown",
   "source": [
    "The citation for the original `fauxcurrence` paper is"
   ],
   "metadata": {}
  },
  {
   "cell_type": "markdown",
   "source": [
    "> Osborne, O. G., Fell, H. G., Atkins, H., van Tol, J., Phillips, D.,\n",
    "> Herrera‐Alsina, L., Mynard, P., Bocedi, G., Gubry‐Rangin, C., Lancaster, L.\n",
    "> T., Creer, S., Nangoy, M., Fahri, F., Lupiyaningdyah, P., Sudiana, I. M.,\n",
    "> Juliandi, B., Travis, J. M. J., Papadopulos, A. S. T., & Algar, A. C.\n",
    "> (2022). Fauxcurrence: Simulating multi‐species occurrences for null models\n",
    "> in species distribution modelling and biogeography. Ecography.\n",
    "> https://doi.org/10.1111/ecog.05880"
   ],
   "metadata": {}
  },
  {
   "cell_type": "markdown",
   "source": [
    "## Why?"
   ],
   "metadata": {}
  },
  {
   "cell_type": "markdown",
   "source": [
    "Interoperability: this package uses `SimpleSDMLayers`, `Distances`, and `GBIF`\n",
    "as backends, making it fit very snuggly with the rest of the (Eco)Julia\n",
    "ecosystem, and working towards integration of tools to build SDMs at scale."
   ],
   "metadata": {}
  },
  {
   "cell_type": "markdown",
   "source": [
    "Expandability: the package is built on modular functions, to ensure that\n",
    "custom workflows can be built, while maintaining a general interface."
   ],
   "metadata": {}
  },
  {
   "cell_type": "markdown",
   "source": [
    "Performance: by relying on pre-allocated matrices, the operations are fairly\n",
    "fast. Whenever a point changes, only the matrices that are impacted are\n",
    "updated, which results in notable improvements for more taxa."
   ],
   "metadata": {}
  },
  {
   "cell_type": "markdown",
   "source": [
    "Licensing: the package uses the more permissive MIT license, imposing fewer\n",
    "constraints on contributors."
   ],
   "metadata": {}
  },
  {
   "cell_type": "markdown",
   "source": [
    "## Overview of methods"
   ],
   "metadata": {}
  },
  {
   "cell_type": "markdown",
   "source": [
    "Note that *none* of the methods are exported, so they need to be called with\n",
    "`Fauxcurrences.method_name`. These methods are the ones that users will need to\n",
    "call to set-up a whole run of the pipeline."
   ],
   "metadata": {}
  },
  {
   "cell_type": "markdown",
   "source": [
    "| method                             | description                                                  |\n",
    "| ---------------------------------- | ------------------------------------------------------------ |\n",
    "| `get_valid_coordinates`            | transforms GBIF observations to a matrix of coordinates      |\n",
    "| `preallocate_distance_matrices`    | prepares the matrices for the intra/inter-specific distances |\n",
    "| `measure_intraspecific_distances!` | updates the intra-specific distances                         |\n",
    "| `measure_interspecific_distances!` | updates the inter-specific distances                         |\n",
    "| `preallocate_simulated_points`     | prepare the matrix for the coordinates of simulated points   |\n",
    "| `bootstrap!`                       | generates the initial proposition for the null               |\n",
    "| `score_distributions`              | measures the distribution distance                           |"
   ],
   "metadata": {}
  },
  {
   "cell_type": "markdown",
   "source": [
    "## Anatomy of a `Fauxcurrences`  run"
   ],
   "metadata": {}
  },
  {
   "cell_type": "markdown",
   "source": [
    "**Step 0**. Prepare the run - the minimal ingredients are a set of coordinates\n",
    "(for example using the `GBIF.jl` package), and a layer (one of the\n",
    "`SimpleSDMLayer` types, predictor or response does not matter)."
   ],
   "metadata": {}
  },
  {
   "outputs": [],
   "cell_type": "code",
   "source": [
    "using Fauxcurrences\n",
    "using SimpleSDMLayers\n",
    "using GBIF"
   ],
   "metadata": {},
   "execution_count": null
  },
  {
   "outputs": [],
   "cell_type": "code",
   "source": [
    "import Random\n",
    "Random.seed!(616525434012345)"
   ],
   "metadata": {},
   "execution_count": null
  },
  {
   "cell_type": "markdown",
   "source": [
    "### Prepare the occurence data"
   ],
   "metadata": {}
  },
  {
   "cell_type": "markdown",
   "source": [
    "Get the observation data in the correct format, which is an array of matrices\n",
    "with two rows (longitude, latitude) and one column for observed occurrence.\n",
    "This is usually an array of GBIF observations, but all that matters is that\n",
    "this is a matrix with longitudes in the first row, and latitudes in the second\n",
    "row. The matrix *has* to be column-major, with observations as columns. To\n",
    "make sure that we cover a reasonable spatial extent, we will look at the\n",
    "default (small) raster distributed with `SimpleSDMLayers`."
   ],
   "metadata": {}
  },
  {
   "outputs": [],
   "cell_type": "code",
   "source": [
    "layer = geotiff(SimpleSDMPredictor, joinpath(dirname(pathof(SimpleSDMLayers)), \"..\", \"data\", \"connectivity.tiff\"))"
   ],
   "metadata": {},
   "execution_count": null
  },
  {
   "cell_type": "markdown",
   "source": [
    "This covers a small area in the Laurentians, north of Montréal, so looking for\n",
    "racoons, deers, and white-footed mice is a safe bet:"
   ],
   "metadata": {}
  },
  {
   "outputs": [],
   "cell_type": "code",
   "source": [
    "taxa = taxon.([\"Procyon lotor\", \"Odocoileus virginianus\", \"Peromyscus leucopus\"])\n",
    "\n",
    "observations = [occurrences(t,\n",
    "    \"hasCoordinate\" => \"true\",\n",
    "    \"decimalLatitude\" => extrema(latitudes(layer)),\n",
    "    \"decimalLongitude\" => extrema(longitudes(layer)),\n",
    "    \"limit\" => 100) for t in taxa]"
   ],
   "metadata": {},
   "execution_count": null
  },
  {
   "cell_type": "markdown",
   "source": [
    "The last step is to turn these occurrences into a matrix of latitudes and\n",
    "longitudes:"
   ],
   "metadata": {}
  },
  {
   "outputs": [],
   "cell_type": "code",
   "source": [
    "obs = [Fauxcurrences.get_valid_coordinates(o, layer) for o in observations]"
   ],
   "metadata": {},
   "execution_count": null
  },
  {
   "cell_type": "markdown",
   "source": [
    "### Parameters for the run"
   ],
   "metadata": {}
  },
  {
   "cell_type": "markdown",
   "source": [
    "Decide on the number of points to generate, and the weight matrix. The number\n",
    "of points to generate is, by default, the number of observations in the\n",
    "original dataset, but this can be changed to generate balanced samples:"
   ],
   "metadata": {}
  },
  {
   "outputs": [],
   "cell_type": "code",
   "source": [
    "points_to_generate = fill(30, length(obs))"
   ],
   "metadata": {},
   "execution_count": null
  },
  {
   "cell_type": "markdown",
   "source": [
    "The weight matrix is used to determine whether intra or inter-specific\n",
    "distances are more important in the distribution score. For example, this will\n",
    "set up a scoring scheme where intra-specific distances count for 75% of the\n",
    "total. The only constraint is that the matrix `W` *must* sum to 1, which is\n",
    "enforced by the code internally:"
   ],
   "metadata": {}
  },
  {
   "outputs": [],
   "cell_type": "code",
   "source": [
    "W = Fauxcurrences.weighted_components(length(obs), 0.75)"
   ],
   "metadata": {},
   "execution_count": null
  },
  {
   "cell_type": "markdown",
   "source": [
    "### Pre-allocate the objects"
   ],
   "metadata": {}
  },
  {
   "cell_type": "markdown",
   "source": [
    "This is an important part of the run, as `Fauxcurrences` is built to *not*\n",
    "allocate more memory than needed. As such, these objects are going to be\n",
    "re-written many, many times. The upside is that, if this steps fits in your\n",
    "memory, the entire workflow will also fit in your memory."
   ],
   "metadata": {}
  },
  {
   "outputs": [],
   "cell_type": "code",
   "source": [
    "obs_intra, obs_inter, sim_intra, sim_inter = Fauxcurrences.preallocate_distance_matrices(obs; samples=points_to_generate);"
   ],
   "metadata": {},
   "execution_count": null
  },
  {
   "cell_type": "markdown",
   "source": [
    "The entire workflow is designed to use multiple species (as most relevant\n",
    "questions will require multiple species). Using a single-species approach only\n",
    "required to pass `[obs]` as opposed to `obs`."
   ],
   "metadata": {}
  },
  {
   "cell_type": "markdown",
   "source": [
    "### Measure the intra and inter-specific distances"
   ],
   "metadata": {}
  },
  {
   "cell_type": "markdown",
   "source": [
    "This is an important step as *all generated points* will maintain the upper\n",
    "bounds of these distances matrices, *even if the inter-specific distance are\n",
    "weightless*."
   ],
   "metadata": {}
  },
  {
   "outputs": [],
   "cell_type": "code",
   "source": [
    "Fauxcurrences.measure_intraspecific_distances!(obs_intra, obs);\n",
    "Fauxcurrences.measure_interspecific_distances!(obs_inter, obs);"
   ],
   "metadata": {},
   "execution_count": null
  },
  {
   "cell_type": "markdown",
   "source": [
    "### Bootstrap the initial set of points"
   ],
   "metadata": {}
  },
  {
   "cell_type": "markdown",
   "source": [
    "This is a two-step process, involving first the pre-allocation of coordinate\n",
    "matrices, and second the population of these matrices using random points."
   ],
   "metadata": {}
  },
  {
   "outputs": [],
   "cell_type": "code",
   "source": [
    "sim = Fauxcurrences.preallocate_simulated_points(obs; samples=points_to_generate);"
   ],
   "metadata": {},
   "execution_count": null
  },
  {
   "cell_type": "markdown",
   "source": [
    "The actual bootstrapping can be a little longer:"
   ],
   "metadata": {}
  },
  {
   "outputs": [],
   "cell_type": "code",
   "source": [
    "Fauxcurrences.bootstrap!(sim, layer, obs, obs_intra, obs_inter, sim_intra, sim_inter);"
   ],
   "metadata": {},
   "execution_count": null
  },
  {
   "cell_type": "markdown",
   "source": [
    "### Bin the distance matrices"
   ],
   "metadata": {}
  },
  {
   "cell_type": "markdown",
   "source": [
    "This is to prepare the scoring of the initial solution. Note that the package\n",
    "will *never* allow points in the simulated occurrences to create a distance\n",
    "matrix where the maximum distance is larger than the maximum distance in the\n",
    "empirical matrix."
   ],
   "metadata": {}
  },
  {
   "outputs": [],
   "cell_type": "code",
   "source": [
    "bin_intra = [Fauxcurrences._bin_distribution(obs_intra[i], maximum(obs_intra[i])) for i in 1:length(obs_intra)];\n",
    "bin_inter = [Fauxcurrences._bin_distribution(obs_inter[i], maximum(obs_inter[i])) for i in 1:length(obs_inter)];\n",
    "bin_s_intra = [Fauxcurrences._bin_distribution(sim_intra[i], maximum(obs_intra[i])) for i in 1:length(obs_intra)];\n",
    "bin_s_inter = [Fauxcurrences._bin_distribution(sim_inter[i], maximum(obs_inter[i])) for i in 1:length(obs_inter)];"
   ],
   "metadata": {},
   "execution_count": null
  },
  {
   "cell_type": "markdown",
   "source": [
    "This version of the `_bin_distribution` function is allocating an array for\n",
    "the bins, but the internal function is over-writing it, to avoid unwanted\n",
    "allocations."
   ],
   "metadata": {}
  },
  {
   "cell_type": "markdown",
   "source": [
    "### Measure the initial divergence"
   ],
   "metadata": {}
  },
  {
   "cell_type": "markdown",
   "source": [
    "This will be the starting point between the observed and simulated\n",
    "distributions, and the score that we want to improve. Note that it accounts\n",
    "for the weights in the matrix. This step will return a vector, the sum of\n",
    "which is the total divergence between the matrices."
   ],
   "metadata": {}
  },
  {
   "outputs": [],
   "cell_type": "code",
   "source": [
    "D = Fauxcurrences.score_distributions(W, bin_intra, bin_s_intra, bin_inter, bin_s_inter)"
   ],
   "metadata": {},
   "execution_count": null
  },
  {
   "cell_type": "markdown",
   "source": [
    "### Setup the actual run"
   ],
   "metadata": {}
  },
  {
   "cell_type": "markdown",
   "source": [
    "This step has infinitely many variations, as `Fauxcurrences` only offers a\n",
    "method to do *a single step forward*. In most cases, using *e.g.*\n",
    "`ProgressMeter` will be a good way to track the progress of the run, and to\n",
    "allow, for example, to stop it when a condition of criteria (absolute/relative\n",
    "divergence, globally, on average, or per-species) are met. For the sake of\n",
    "simplicity, we return the sum of all divergences, measures for 500000\n",
    "timesteps."
   ],
   "metadata": {}
  },
  {
   "outputs": [],
   "cell_type": "code",
   "source": [
    "progress = zeros(Float64, 500_000)\n",
    "progress[1] = sum(D)"
   ],
   "metadata": {},
   "execution_count": null
  },
  {
   "cell_type": "markdown",
   "source": [
    "### Run!"
   ],
   "metadata": {}
  },
  {
   "cell_type": "markdown",
   "source": [
    "The `step!` function takes most of what we have allocated so far, which is a\n",
    "lot, but allows considerable performance gains. The last argument to `step!`\n",
    "is the current divergence, and the return value of `step!` (in addition to\n",
    "modifying the simulated points) is the new divergence."
   ],
   "metadata": {}
  },
  {
   "cell_type": "markdown",
   "source": [
    "Before running the actual loop, it is a good idea to time a handful of steps?\n",
    "Why a handful? Because Julia do be compiling, and because depending on the\n",
    "structure of your points, the problem might be more or less difficult to\n",
    "solve. In practice, using `ProgressMeter` will make the timing of the whole\n",
    "process a lot more informative. In this simple version, we rely on a manually\n",
    "created progress report:"
   ],
   "metadata": {}
  },
  {
   "outputs": [],
   "cell_type": "code",
   "source": [
    "for i in 2:length(progress)\n",
    "    progress[i] = Fauxcurrences.step!(sim, layer, W, obs_intra, obs_inter, sim_intra, sim_inter, bin_intra, bin_inter, bin_s_intra, bin_s_inter, progress[i-1])\n",
    "    if iszero(i%20_000)\n",
    "        println(\"[$(lpad(round(Int64, 100*(i/length(progress))), 3))%]\\tJS-divergence: $(round(progress[i]; digits=3))\")\n",
    "    end\n",
    "end"
   ],
   "metadata": {},
   "execution_count": null
  },
  {
   "cell_type": "markdown",
   "source": [
    "The call to `step!` is... lengthy. The reason for this is very simple: `step!`\n",
    "will update as much information as it can *in place* when a change is made.\n",
    "This means that there are no objects creates (only changed), but the downside\n",
    "is that the function needs to be given a lot of information."
   ],
   "metadata": {}
  },
  {
   "cell_type": "markdown",
   "source": [
    "### Congratulations, your run is done!"
   ],
   "metadata": {}
  },
  {
   "cell_type": "markdown",
   "source": [
    "Here, it would make sense to look at the total improvement (or to plot the\n",
    "timeseries of the improvement):"
   ],
   "metadata": {}
  },
  {
   "outputs": [],
   "cell_type": "code",
   "source": [
    "println(\"Improvement: $(round(progress[begin]/progress[end]; digits=2)) ×\")"
   ],
   "metadata": {},
   "execution_count": null
  },
  {
   "cell_type": "markdown",
   "source": [
    "Note that for a small number of iterations (like we used here), this\n",
    "improvement is unlikely to be very large; note also that the returns (in terms\n",
    "of improvement over time) are very much diminishing. The good news is that\n",
    "re-starting the process is as easy as running the loop with calls to `step!`\n",
    "again, as the packages has modified the matrices, and is ready to restart at\n",
    "any time."
   ],
   "metadata": {}
  },
  {
   "cell_type": "markdown",
   "source": [
    "You can also look at the per-matrix score, out of all the distance bins (set\n",
    "as a package-wide variable, `Fauxcurrences._number_of_bins`, which you are\n",
    "encouraged to tweak) -- under a *good* fit, the lines in `bin_intra` and\n",
    "`bin_s_intra` would overlap (same with `..._inter`)."
   ],
   "metadata": {}
  },
  {
   "cell_type": "markdown",
   "source": [
    "## Suspected and known changes to the original package"
   ],
   "metadata": {}
  },
  {
   "cell_type": "markdown",
   "source": [
    "The changes are classified by whether or not we **KNOW** or **SUSPECT** a\n",
    "change, and further by whether the change is a **difference** (the two\n",
    "packages do things differently), a **removal** (features from `fauxcurrence`\n",
    "have not been ported), or an **addition** (`Fauxcurrences.jl` has unique\n",
    "features). Note that because the maintainers of the two packages *do* chat,\n",
    "this list may not be entirely up to date, and there has been exchange of ideas\n",
    "and features already."
   ],
   "metadata": {}
  },
  {
   "cell_type": "markdown",
   "source": [
    "**KNOWN/difference** The distance between distribution is measured using the\n",
    "square root of the ranged Jensen-Shannon divergence (the original package uses\n",
    "the Kullback-Leibler divergence) - this measure gives a value in 0-1 *and* is\n",
    "a true metric. The JS distance is symmetrical for any two distributions, but\n",
    "more importantly, never returns an infinite value when one density is 0 and\n",
    "the other is not. For sparse datasets and/or clumped occurrences, this means\n",
    "that JS will return a value that can still be compared by the optimizer. Note\n",
    "also that for a JS distance of x, the equivalent KL divergence would be of the\n",
    "order of x². Using JS distance has the notable advantage of allowing to use an\n",
    "upper-triangular matrix for weights, which speeds up calculations\n",
    "significantly. Future releases of the package might allow complete matrices,\n",
    "but for the moment, these seem to require more guesses about the parameters\n",
    "than we are comfortable with."
   ],
   "metadata": {}
  },
  {
   "cell_type": "markdown",
   "source": [
    "**KNOWN/addition** The number of points to simulate can be fixed *per\n",
    "species*, which is important because we may want to benchmark algorithms under\n",
    "the unrealistic assumption that the sampling effort is the same. It also\n",
    "allows users to generate smaller samples of simulated points, which is useful\n",
    "if some species have a lot of occurrences."
   ],
   "metadata": {}
  },
  {
   "cell_type": "markdown",
   "source": [
    "**KNOWN/removal** The bootstrap phase (generation of the initial null) picks\n",
    "distances from the distance matrix, rather than performing an estimation of\n",
    "the underlying distribution. This is mostly because the points will be refined\n",
    "anyways, so the faster solution was selected, and because performing a kernel\n",
    "approximation sometimes smoothed out ecologically relevant structure in the\n",
    "data (notably archipelagos, or grid-based sampling)."
   ],
   "metadata": {}
  },
  {
   "cell_type": "markdown",
   "source": [
    "**SUSPECTED/difference** The constraints on simulated points are as follow:\n",
    "the intra-specific distance cannot be larger than the observed intra-specific\n",
    "distance, and the inter-specific distance cannot be larger than the observed\n",
    "pairwise inter-specific distance. This is motivated by two reasons. First,\n",
    "this makes the binning of the distributions a lot more stable, as the upport\n",
    "bound of the distribution remains the same. Second, this ensures that the\n",
    "optimizer does not \"cheat\" by over-expanding the simulated points."
   ],
   "metadata": {}
  },
  {
   "cell_type": "markdown",
   "source": [
    "**SUSPECTED/difference** During optimization, the *only* criteria that is\n",
    "checked is that the average of all divergences (intra-specific and pairwise\n",
    "inter-specific) must decrease; this can result in *increases* of the distance\n",
    "for one or more of the component distributions. There is no indication in the\n",
    "original manuscript of what constitutes an acceptable move, and the clean-room\n",
    "re-implementation means that the code was not consulted. This is scheduled to\n",
    "be a change in future versions of the package, likely using a `strict` keyword\n",
    "to decide whether all divergences need to decrease for the move to be\n",
    "considered valid."
   ],
   "metadata": {}
  },
  {
   "cell_type": "markdown",
   "source": [
    "**KNOWN/removal** `Fauxcurrences.jl` does not offer non-pairwsie\n",
    "inter-specific distances. This is a direct consequence of the next point,\n",
    "which is one of the most significant additions to the package."
   ],
   "metadata": {}
  },
  {
   "cell_type": "markdown",
   "source": [
    "**KNOWN/addition** `Fauxcurrences.jl` offers the ability to weigh the\n",
    "different matrices (intra v. inter). In the default configuration, all\n",
    "*matrices* have the same weight. An alternative calibration scheme is to give\n",
    "an equivalent weight to the sum of the *n* intra-specific matrices, and of the\n",
    "*n(n-1)/2* inter-specific matrices. Additional calibrations can reflect other\n",
    "biological constraints. This addition is important because in the case of\n",
    "multiple species, the pairwise inter-specific distances can rapidly dominate\n",
    "the overall score. The ability to set a weight matrix can lead to, for\n",
    "example, starting the null model with only the intra-specific matrices, and\n",
    "then optimizing the inter-specific matrices."
   ],
   "metadata": {}
  },
  {
   "cell_type": "markdown",
   "source": [
    "**KNOWN/difference** `Faucurrences.jl` does not generate distribution of\n",
    "*raster cells*, and is focused on *observations*. This has been motivated by\n",
    "our use-cases where rasters can have different spatial resolutions. Generating\n",
    "occurrences is a little bit more computationally expensive, but the memory\n",
    "footprint has been optimized and the code is rapid enough that downscaling the\n",
    "data prior to generation was not identified as a requirement."
   ],
   "metadata": {}
  },
  {
   "cell_type": "markdown",
   "source": [
    "**KNOWN/difference** By default, `Fauxcurrences.jl` uses the Haversine\n",
    "distance for both the evaluation of distance matrices and the generation of\n",
    "new points. This decision was taken because (i) the Haversine distance is\n",
    "probably a good enough approximation given the possible measurement error,\n",
    "sampling biases, and raster resolution, and (ii) the first geodetic problem\n",
    "can be solved in a very computationally efficient way for this distance,\n",
    "speeding up the generation of new points significantly. Do note that generated\n",
    "points are *guaranteed* to lay on a valued cell of the layer given as a\n",
    "template."
   ],
   "metadata": {}
  }
 ],
 "nbformat_minor": 3,
 "metadata": {
  "language_info": {
   "file_extension": ".jl",
   "mimetype": "application/julia",
   "name": "julia",
   "version": "1.7.2"
  },
  "kernelspec": {
   "name": "julia-1.7",
   "display_name": "Julia 1.7.2",
   "language": "julia"
  }
 },
 "nbformat": 4
}
