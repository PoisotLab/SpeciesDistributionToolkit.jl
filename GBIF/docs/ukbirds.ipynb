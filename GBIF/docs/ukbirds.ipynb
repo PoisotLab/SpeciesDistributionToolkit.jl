{
  "cells": [
    {
      "cell_type": "markdown",
      "source": [
        "---\nlayout: page\ntitle: House sparrow example\n---\n\n# Case study -- birds from the UK\n\nIn this example, we will build a map of the observations of birds from the\nUnited Kingdom."
      ],
      "metadata": {}
    },
    {
      "outputs": [],
      "cell_type": "code",
      "source": [
        "using GBIF"
      ],
      "metadata": {},
      "execution_count": null
    },
    {
      "cell_type": "markdown",
      "source": [
        "## Getting the data\n\nThe first thing is to specify the `taxonKey` -- this is explained in the [GBIF\ntaxonomy][tax] (but lookup feature will be added to the package later), and the\ncountry (`GB`). Because the GBIF API cannot return more than 200000 records\n(that's already quite a lot, but common species have been observed far more), we\nwill (i) focus on a single common species (the House sparrow, `5231190`), and\nonly observations for the year 2015.\n\n[tax]: http://www.gbif.org/species/search?dataset_key=d7dddbf4-2cf0-4f39-9b2a-bb099caae36c"
      ],
      "metadata": {}
    },
    {
      "outputs": [],
      "cell_type": "code",
      "source": [
        "uk_birds_query = Dict(\n  \"taxonKey\"=>5231190,\n  \"country\"=>\"GB\",\n  \"hasCoordinate\"=>true,\n  \"year\"=>\"2015\")\nuk_birds = occurrences(uk_birds_query)\nprintln(\"There are \", uk_birds.count, \" records available\")"
      ],
      "metadata": {},
      "execution_count": null
    },
    {
      "cell_type": "markdown",
      "source": [
        "This is good! We can complete the request. This would take a while, since we are\ngoing through interactions 20 at a time. We can speed up the process a little\nbit, by requesting 200 records on every page. GBIF will not let you ask for more\nthan 200 records by page."
      ],
      "metadata": {}
    },
    {
      "outputs": [],
      "cell_type": "code",
      "source": [
        "uk_birds.query[\"limit\"] = 200"
      ],
      "metadata": {},
      "execution_count": null
    },
    {
      "cell_type": "markdown",
      "source": [
        "Let's now complete the request for real:"
      ],
      "metadata": {}
    },
    {
      "outputs": [],
      "cell_type": "code",
      "source": [
        "complete!(uk_birds)"
      ],
      "metadata": {},
      "execution_count": null
    },
    {
      "cell_type": "markdown",
      "source": [
        "Once this is done, we can start looking at observations. Let's load the `Plots`\npackage to help us."
      ],
      "metadata": {}
    },
    {
      "outputs": [],
      "cell_type": "code",
      "source": [
        "using Plots\npyplot() # Feel free to replace by your favorite backend"
      ],
      "metadata": {},
      "execution_count": null
    },
    {
      "cell_type": "markdown",
      "source": [
        "We'll start by looking at the number of observations by month:"
      ],
      "metadata": {}
    },
    {
      "outputs": [],
      "cell_type": "code",
      "source": [
        "obs_dates = map(x -> x.date, uk_birds.occurrences)\nby_month = Dates.month.(obs_dates)\nhistogram(by_month,\n  xticks=([1,3,5,7,9,11],[\"Jan\",\"Mar\",\"May\",\"Jul\",\"Sep\",\"Nov\"]),\n  c=:lightgrey, lab=\"\", ylab=\"Number of occurrences\")"
      ],
      "metadata": {},
      "execution_count": null
    },
    {
      "cell_type": "markdown",
      "source": [
        "We can now have a look at the latitude / longitude of the points:"
      ],
      "metadata": {}
    },
    {
      "outputs": [],
      "cell_type": "code",
      "source": [
        "latlon = map(x -> [x.longitude, x.latitude], uk_birds.occurrences)\nx = hcat(latlon...)'\nhistogram2d(x[:,1], x[:,2], c=:YlGnBu, nbins=25, aspectratio=1)\nscatter!(x[:,1], x[:,2], mc=by_month, ms=2, lab=\"\")\nxaxis!(\"Longitude\")\nyaxis!(\"Latitude\")"
      ],
      "metadata": {},
      "execution_count": null
    },
    {
      "cell_type": "markdown",
      "source": [
        "And voilà!"
      ],
      "metadata": {}
    }
  ],
  "nbformat_minor": 2,
  "metadata": {
    "language_info": {
      "file_extension": ".jl",
      "mimetype": "application/julia",
      "name": "julia",
      "version": "0.6.0"
    },
    "kernelspec": {
      "name": "julia-0.6",
      "display_name": "Julia 0.6.0",
      "language": "julia"
    }
  },
  "nbformat": 4
}
